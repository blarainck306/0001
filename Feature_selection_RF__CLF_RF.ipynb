{
 "cells": [
  {
   "cell_type": "markdown",
   "metadata": {},
   "source": [
    "In this notebook, all features are selected using random forest algorithm. Their importance levels are visualized using a bar plot. The selected features are feed into a random forest again to test out the performance."
   ]
  },
  {
   "cell_type": "code",
   "execution_count": 1,
   "metadata": {
    "collapsed": false
   },
   "outputs": [],
   "source": [
    "import numpy as np\n",
    "import pandas as pd\n",
    "from sklearn.preprocessing import LabelEncoder\n",
    "#from xgboost.sklearn import XGBClassifier\n",
    "\n",
    "np.random.seed(0)\n",
    "\n",
    "from sklearn.ensemble import RandomForestClassifier\n",
    "from sklearn.cross_validation import cross_val_score\n",
    "import seaborn as sns\n",
    "from matplotlib import pyplot as plt\n",
    "%matplotlib inline\n",
    "import sklearn\n",
    "import sklearn.grid_search\n",
    "#from sklearn.cross_validation import train_test_split\n",
    "from sklearn.cross_validation import KFold\n",
    "\n",
    "import math\n",
    "\n",
    "from NDCG_score_func import ndcg_scorer"
   ]
  },
  {
   "cell_type": "markdown",
   "metadata": {},
   "source": [
    "### Loading data"
   ]
  },
  {
   "cell_type": "code",
   "execution_count": 2,
   "metadata": {
    "collapsed": false,
    "scrolled": false
   },
   "outputs": [],
   "source": [
    "X= np.load('X.npy')\n",
    "y= np.load('y.npy')\n",
    "X_test= np.load('X_test.npy')\n",
    "\n",
    "df_all = pd.read_csv('df_all.csv')\n",
    "df_all.set_index('id',inplace=True)"
   ]
  },
  {
   "cell_type": "markdown",
   "metadata": {},
   "source": [
    "### Feature seletion by Random Forest"
   ]
  },
  {
   "cell_type": "markdown",
   "metadata": {},
   "source": [
    "Using the paramters tunned in the notebook 'Classifier_RF', random forest is used to seltect features as shown below. All samples in the training set are used."
   ]
  },
  {
   "cell_type": "code",
   "execution_count": 3,
   "metadata": {
    "collapsed": false,
    "scrolled": true
   },
   "outputs": [],
   "source": [
    "#Cross validation for one fixed parameter set\n",
    "clf = RandomForestClassifier(max_features=40, n_estimators=120, n_jobs=1, min_samples_split=5)#n_jobs=2 #, min_samples_split=5  max_features=12\n",
    "#view the whole data set as trainning set, and cross validate using K-fold cross validata(K=10)\n",
    "clf.fit(X,y)\n",
    "importance_list = clf.feature_importances_\n",
    "name_list = df_all.columns"
   ]
  },
  {
   "cell_type": "markdown",
   "metadata": {},
   "source": [
    "Showing the level of feature importance."
   ]
  },
  {
   "cell_type": "code",
   "execution_count": 4,
   "metadata": {
    "collapsed": false
   },
   "outputs": [],
   "source": [
    "#zip the lists-sort the result-uppack using zip(*sorted(zip(\n",
    "#see http://stackoverflow.com/questions/2732994/python-sort-a-list-and-change-another-one-consequently\n",
    "importance_list, name_list = zip(*sorted(zip(importance_list, name_list)))"
   ]
  },
  {
   "cell_type": "code",
   "execution_count": 5,
   "metadata": {
    "collapsed": false,
    "scrolled": true
   },
   "outputs": [
    {
     "data": {
      "image/png": "[encoded data removed]",
      "text/plain": [
       "<matplotlib.figure.Figure at 0x38ca6cc0>"
      ]
     },
     "metadata": {},
     "output_type": "display_data"
    }
   ],
   "source": [
    "importance_list_1=importance_list[-10:]\n",
    "name_list_1=name_list[-10:]\n",
    "\n",
    "plt.barh(range(len(name_list_1)),importance_list_1,align='center')\n",
    "#set the location and lables of y-axis point values\n",
    "plt.yticks(range(len(name_list_1)),name_list_1)\n",
    "plt.xlabel('Relative Importance in the Random Forest')\n",
    "plt.ylabel('Features')\n",
    "plt.title('Relative importance of Each Feature')\n",
    "plt.show()"
   ]
  },
  {
   "cell_type": "markdown",
   "metadata": {},
   "source": [
    "From above, it can be seen that the most important features are age, and date-time features, the indicator for missingness of 'gender'."
   ]
  },
  {
   "cell_type": "code",
   "execution_count": 6,
   "metadata": {
    "collapsed": false,
    "scrolled": false
   },
   "outputs": [
    {
     "data": {
      "text/plain": [
       "226"
      ]
     },
     "execution_count": 6,
     "metadata": {},
     "output_type": "execute_result"
    }
   ],
   "source": [
    "len(importance_list)"
   ]
  },
  {
   "cell_type": "markdown",
   "metadata": {},
   "source": [
    "There are a total of 226 features."
   ]
  },
  {
   "cell_type": "code",
   "execution_count": 12,
   "metadata": {
    "collapsed": false
   },
   "outputs": [
    {
     "data": {
      "text/plain": [
       "0.97314668728234255"
      ]
     },
     "execution_count": 12,
     "metadata": {},
     "output_type": "execute_result"
    }
   ],
   "source": [
    "sum(list(importance_list)[-100:])"
   ]
  },
  {
   "cell_type": "markdown",
   "metadata": {},
   "source": [
    "The most important 100 features renders 97.3% gain in random forest. Therefore, let's try to see the performance using k-fold cross validation with these 100 most important features."
   ]
  },
  {
   "cell_type": "code",
   "execution_count": 13,
   "metadata": {
    "collapsed": false
   },
   "outputs": [],
   "source": [
    "importance_list_1=importance_list[-100:]\n",
    "name_list_1=name_list[-100:]\n",
    "df_all_slt=df_all[list(name_list_1)]"
   ]
  },
  {
   "cell_type": "code",
   "execution_count": 14,
   "metadata": {
    "collapsed": false,
    "scrolled": false
   },
   "outputs": [
    {
     "data": {
      "text/html": [
       "<div>\n",
       "<table border=\"1\" class=\"dataframe\">\n",
       "  <thead>\n",
       "    <tr style=\"text-align: right;\">\n",
       "      <th></th>\n",
       "      <th>language_zh</th>\n",
       "      <th>language_fr</th>\n",
       "      <th>listing_reviews</th>\n",
       "      <th>partner_callback</th>\n",
       "      <th>signup_flow_25.0</th>\n",
       "      <th>campaigns</th>\n",
       "      <th>reviews</th>\n",
       "      <th>signup_app_Moweb</th>\n",
       "      <th>first_affiliate_tracked_product</th>\n",
       "      <th>first_device_type_Desktop (Other)</th>\n",
       "      <th>...</th>\n",
       "      <th>dac_year</th>\n",
       "      <th>signup_method_basic</th>\n",
       "      <th>gender_-unknown-</th>\n",
       "      <th>booking_request</th>\n",
       "      <th>tfa_month</th>\n",
       "      <th>dac_month</th>\n",
       "      <th>age_nan</th>\n",
       "      <th>dac_day</th>\n",
       "      <th>tfa_day</th>\n",
       "      <th>age</th>\n",
       "    </tr>\n",
       "    <tr>\n",
       "      <th>id</th>\n",
       "      <th></th>\n",
       "      <th></th>\n",
       "      <th></th>\n",
       "      <th></th>\n",
       "      <th></th>\n",
       "      <th></th>\n",
       "      <th></th>\n",
       "      <th></th>\n",
       "      <th></th>\n",
       "      <th></th>\n",
       "      <th></th>\n",
       "      <th></th>\n",
       "      <th></th>\n",
       "      <th></th>\n",
       "      <th></th>\n",
       "      <th></th>\n",
       "      <th></th>\n",
       "      <th></th>\n",
       "      <th></th>\n",
       "      <th></th>\n",
       "      <th></th>\n",
       "    </tr>\n",
       "  </thead>\n",
       "  <tbody>\n",
       "    <tr>\n",
       "      <th>gxn3p5htnn</th>\n",
       "      <td>0</td>\n",
       "      <td>0</td>\n",
       "      <td>-0.983523</td>\n",
       "      <td>-0.984374</td>\n",
       "      <td>0</td>\n",
       "      <td>-0.980432</td>\n",
       "      <td>-0.989965</td>\n",
       "      <td>0</td>\n",
       "      <td>0</td>\n",
       "      <td>0</td>\n",
       "      <td>...</td>\n",
       "      <td>-1.0</td>\n",
       "      <td>0</td>\n",
       "      <td>1</td>\n",
       "      <td>-0.960434</td>\n",
       "      <td>-0.636364</td>\n",
       "      <td>-0.090909</td>\n",
       "      <td>1</td>\n",
       "      <td>0.800000</td>\n",
       "      <td>0.200000</td>\n",
       "      <td>0.031327</td>\n",
       "    </tr>\n",
       "    <tr>\n",
       "      <th>820tgsjxq7</th>\n",
       "      <td>0</td>\n",
       "      <td>0</td>\n",
       "      <td>-0.983523</td>\n",
       "      <td>-0.984374</td>\n",
       "      <td>0</td>\n",
       "      <td>-0.980432</td>\n",
       "      <td>-0.989965</td>\n",
       "      <td>0</td>\n",
       "      <td>0</td>\n",
       "      <td>0</td>\n",
       "      <td>...</td>\n",
       "      <td>-0.5</td>\n",
       "      <td>0</td>\n",
       "      <td>0</td>\n",
       "      <td>-0.960434</td>\n",
       "      <td>-0.272727</td>\n",
       "      <td>-0.272727</td>\n",
       "      <td>0</td>\n",
       "      <td>0.600000</td>\n",
       "      <td>0.466667</td>\n",
       "      <td>0.204489</td>\n",
       "    </tr>\n",
       "    <tr>\n",
       "      <th>4ft3gnwmtx</th>\n",
       "      <td>0</td>\n",
       "      <td>0</td>\n",
       "      <td>-0.983523</td>\n",
       "      <td>-0.984374</td>\n",
       "      <td>0</td>\n",
       "      <td>-0.980432</td>\n",
       "      <td>-0.989965</td>\n",
       "      <td>0</td>\n",
       "      <td>0</td>\n",
       "      <td>0</td>\n",
       "      <td>...</td>\n",
       "      <td>-1.0</td>\n",
       "      <td>1</td>\n",
       "      <td>0</td>\n",
       "      <td>-0.960434</td>\n",
       "      <td>-0.090909</td>\n",
       "      <td>0.454545</td>\n",
       "      <td>0</td>\n",
       "      <td>0.800000</td>\n",
       "      <td>-0.466667</td>\n",
       "      <td>2.275654</td>\n",
       "    </tr>\n",
       "    <tr>\n",
       "      <th>bjjt8pjhuk</th>\n",
       "      <td>0</td>\n",
       "      <td>0</td>\n",
       "      <td>-0.983523</td>\n",
       "      <td>-0.984374</td>\n",
       "      <td>0</td>\n",
       "      <td>-0.980432</td>\n",
       "      <td>-0.989965</td>\n",
       "      <td>0</td>\n",
       "      <td>0</td>\n",
       "      <td>0</td>\n",
       "      <td>...</td>\n",
       "      <td>-0.5</td>\n",
       "      <td>0</td>\n",
       "      <td>0</td>\n",
       "      <td>-0.960434</td>\n",
       "      <td>0.636364</td>\n",
       "      <td>1.000000</td>\n",
       "      <td>0</td>\n",
       "      <td>-0.733333</td>\n",
       "      <td>1.000000</td>\n",
       "      <td>0.664748</td>\n",
       "    </tr>\n",
       "    <tr>\n",
       "      <th>87mebub9p4</th>\n",
       "      <td>0</td>\n",
       "      <td>0</td>\n",
       "      <td>-0.983523</td>\n",
       "      <td>-0.984374</td>\n",
       "      <td>0</td>\n",
       "      <td>-0.980432</td>\n",
       "      <td>-0.989965</td>\n",
       "      <td>0</td>\n",
       "      <td>0</td>\n",
       "      <td>0</td>\n",
       "      <td>...</td>\n",
       "      <td>-1.0</td>\n",
       "      <td>1</td>\n",
       "      <td>1</td>\n",
       "      <td>-0.960434</td>\n",
       "      <td>1.000000</td>\n",
       "      <td>0.454545</td>\n",
       "      <td>0</td>\n",
       "      <td>-0.133333</td>\n",
       "      <td>-0.533333</td>\n",
       "      <td>0.549683</td>\n",
       "    </tr>\n",
       "  </tbody>\n",
       "</table>\n",
       "<p>5 rows × 100 columns</p>\n",
       "</div>"
      ],
      "text/plain": [
       "            language_zh  language_fr  listing_reviews  partner_callback  \\\n",
       "id                                                                        \n",
       "gxn3p5htnn            0            0        -0.983523         -0.984374   \n",
       "820tgsjxq7            0            0        -0.983523         -0.984374   \n",
       "4ft3gnwmtx            0            0        -0.983523         -0.984374   \n",
       "bjjt8pjhuk            0            0        -0.983523         -0.984374   \n",
       "87mebub9p4            0            0        -0.983523         -0.984374   \n",
       "\n",
       "            signup_flow_25.0  campaigns   reviews  signup_app_Moweb  \\\n",
       "id                                                                    \n",
       "gxn3p5htnn                 0  -0.980432 -0.989965                 0   \n",
       "820tgsjxq7                 0  -0.980432 -0.989965                 0   \n",
       "4ft3gnwmtx                 0  -0.980432 -0.989965                 0   \n",
       "bjjt8pjhuk                 0  -0.980432 -0.989965                 0   \n",
       "87mebub9p4                 0  -0.980432 -0.989965                 0   \n",
       "\n",
       "            first_affiliate_tracked_product  \\\n",
       "id                                            \n",
       "gxn3p5htnn                                0   \n",
       "820tgsjxq7                                0   \n",
       "4ft3gnwmtx                                0   \n",
       "bjjt8pjhuk                                0   \n",
       "87mebub9p4                                0   \n",
       "\n",
       "            first_device_type_Desktop (Other)    ...     dac_year  \\\n",
       "id                                               ...                \n",
       "gxn3p5htnn                                  0    ...         -1.0   \n",
       "820tgsjxq7                                  0    ...         -0.5   \n",
       "4ft3gnwmtx                                  0    ...         -1.0   \n",
       "bjjt8pjhuk                                  0    ...         -0.5   \n",
       "87mebub9p4                                  0    ...         -1.0   \n",
       "\n",
       "            signup_method_basic  gender_-unknown-  booking_request  tfa_month  \\\n",
       "id                                                                              \n",
       "gxn3p5htnn                    0                 1        -0.960434  -0.636364   \n",
       "820tgsjxq7                    0                 0        -0.960434  -0.272727   \n",
       "4ft3gnwmtx                    1                 0        -0.960434  -0.090909   \n",
       "bjjt8pjhuk                    0                 0        -0.960434   0.636364   \n",
       "87mebub9p4                    1                 1        -0.960434   1.000000   \n",
       "\n",
       "            dac_month  age_nan   dac_day   tfa_day       age  \n",
       "id                                                            \n",
       "gxn3p5htnn  -0.090909        1  0.800000  0.200000  0.031327  \n",
       "820tgsjxq7  -0.272727        0  0.600000  0.466667  0.204489  \n",
       "4ft3gnwmtx   0.454545        0  0.800000 -0.466667  2.275654  \n",
       "bjjt8pjhuk   1.000000        0 -0.733333  1.000000  0.664748  \n",
       "87mebub9p4   0.454545        0 -0.133333 -0.533333  0.549683  \n",
       "\n",
       "[5 rows x 100 columns]"
      ]
     },
     "execution_count": 14,
     "metadata": {},
     "output_type": "execute_result"
    }
   ],
   "source": [
    "df_all_slt.head()"
   ]
  },
  {
   "cell_type": "markdown",
   "metadata": {},
   "source": [
    "### K-fold cross-validation to estimate the test performance."
   ]
  },
  {
   "cell_type": "markdown",
   "metadata": {},
   "source": [
    "Data preparation:"
   ]
  },
  {
   "cell_type": "code",
   "execution_count": 63,
   "metadata": {
    "collapsed": true
   },
   "outputs": [],
   "source": [
    "df_train = pd.read_csv('train_users_2.csv')\n",
    "df_test = pd.read_csv('test_users.csv')\n",
    "labels = df_train['country_destination'].values\n",
    "df_train = df_train.drop(['country_destination'], axis=1)\n",
    "piv_train = df_train.shape[0]  #"
   ]
  },
  {
   "cell_type": "code",
   "execution_count": 64,
   "metadata": {
    "collapsed": false
   },
   "outputs": [],
   "source": [
    "#dataFrame to numpy arrays\n",
    "vals = df_all_slt.values\n",
    "\n",
    "#training set\n",
    "X = vals[:piv_train]\n",
    "#transform labels into integers\n",
    "le = LabelEncoder()\n",
    "y = le.fit_transform(labels) #is this  integer encoding a must-do or optional?\n",
    "\n",
    "#shuffling\n",
    "y = y.reshape((len(y),1))\n",
    "Xy = np.concatenate((X,y),axis = 1)\n",
    "np.random.shuffle(Xy)\n",
    "X = Xy[:,:(X.shape[1])]\n",
    "y = Xy[:,X.shape[1]]\n",
    "\n",
    "#test set\n",
    "X_test = vals[piv_train:]"
   ]
  },
  {
   "cell_type": "markdown",
   "metadata": {},
   "source": [
    "__Random forest classifier__"
   ]
  },
  {
   "cell_type": "code",
   "execution_count": 53,
   "metadata": {
    "collapsed": false
   },
   "outputs": [
    {
     "name": "stdout",
     "output_type": "stream",
     "text": [
      "[ 0.81922481  0.81851496  0.81835913  0.82109736  0.81960686]\n",
      "0.819360624246\n",
      "Wall time: 12min 38s\n"
     ]
    }
   ],
   "source": [
    "%%time\n",
    "clf = RandomForestClassifier(max_features=20, n_estimators=120, n_jobs=1, min_samples_split=5)#n_jobs=2 #, min_samples_split=5  max_features=12\n",
    "#view the whole data set as trainning set, and cross validate using K-fold cross validata(K=10)\n",
    "kf = KFold(len(X), n_folds=5, random_state=42)\n",
    "score_list = cross_val_score(clf, X, y, cv=kf,scoring=ndcg_scorer)# scoring=ndcg_scorer\n",
    "print score_list\n",
    "print 'The avaerage NDCG score is %d'%np.mean(score_list)"
   ]
  },
  {
   "cell_type": "markdown",
   "metadata": {},
   "source": [
    "The avaerage NDCG score is 81.9%."
   ]
  },
  {
   "cell_type": "markdown",
   "metadata": {},
   "source": [
    "### Generating Submission to Kaggle competetion"
   ]
  },
  {
   "cell_type": "code",
   "execution_count": 65,
   "metadata": {
    "collapsed": false
   },
   "outputs": [
    {
     "data": {
      "text/html": [
       "<div>\n",
       "<table border=\"1\" class=\"dataframe\">\n",
       "  <thead>\n",
       "    <tr style=\"text-align: right;\">\n",
       "      <th></th>\n",
       "      <th>id</th>\n",
       "      <th>country</th>\n",
       "    </tr>\n",
       "  </thead>\n",
       "  <tbody>\n",
       "    <tr>\n",
       "      <th>0</th>\n",
       "      <td>5uwns89zht</td>\n",
       "      <td>NDF</td>\n",
       "    </tr>\n",
       "    <tr>\n",
       "      <th>1</th>\n",
       "      <td>5uwns89zht</td>\n",
       "      <td>US</td>\n",
       "    </tr>\n",
       "    <tr>\n",
       "      <th>2</th>\n",
       "      <td>5uwns89zht</td>\n",
       "      <td>other</td>\n",
       "    </tr>\n",
       "    <tr>\n",
       "      <th>3</th>\n",
       "      <td>5uwns89zht</td>\n",
       "      <td>IT</td>\n",
       "    </tr>\n",
       "    <tr>\n",
       "      <th>4</th>\n",
       "      <td>5uwns89zht</td>\n",
       "      <td>ES</td>\n",
       "    </tr>\n",
       "  </tbody>\n",
       "</table>\n",
       "</div>"
      ],
      "text/plain": [
       "           id country\n",
       "0  5uwns89zht     NDF\n",
       "1  5uwns89zht      US\n",
       "2  5uwns89zht   other\n",
       "3  5uwns89zht      IT\n",
       "4  5uwns89zht      ES"
      ]
     },
     "execution_count": 65,
     "metadata": {},
     "output_type": "execute_result"
    }
   ],
   "source": [
    "# #set up classifier parameters\n",
    "# #number of n_estimators trees \n",
    "# clf = RandomForestClassifier(n_estimators = 120,max_features = 20, min_samples_split=5, n_jobs=1)\n",
    "# clf.fit(X,y)\n",
    "# y_pred = clf.predict_proba(X_test)\n",
    "\n",
    "# #Taking the 5 classes with highest probabilities\n",
    "# ids = []  #list of ids\n",
    "# cts = []  #list of countries\n",
    "# for i in range(len(id_test)):\n",
    "#     #idx:internal variable \n",
    "#     idx = id_test[i] \n",
    "#     #dupliccate ids 5 times and put it to the list ids\n",
    "#     ids += [idx] * 5\n",
    "#     cts += le.inverse_transform(np.argsort(y_pred[i])[::-1])[:5].tolist()\n",
    "    \n",
    "# #Generate submission\n",
    "# sub = pd.DataFrame(np.column_stack((ids, cts)), columns=['id', 'country'])\n",
    "# sub.to_csv('sub4.csv',index=False)\n",
    "# sub.head()"
   ]
  }
 ],
 "metadata": {
  "kernelspec": {
   "display_name": "Python 2",
   "language": "python",
   "name": "python2"
  },
  "language_info": {
   "codemirror_mode": {
    "name": "ipython",
    "version": 2
   },
   "file_extension": ".py",
   "mimetype": "text/x-python",
   "name": "python",
   "nbconvert_exporter": "python",
   "pygments_lexer": "ipython2",
   "version": "2.7.11"
  }
 },
 "nbformat": 4,
 "nbformat_minor": 0
}
