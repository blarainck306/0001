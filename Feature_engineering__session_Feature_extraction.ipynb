{
 "cells": [
  {
   "cell_type": "markdown",
   "metadata": {},
   "source": [
    "In this notebook, the web session table will be analized. Accordingly, a split-aggregate strategy of raw datas is adopted to extrat feature out of the original feature in this table."
   ]
  },
  {
   "cell_type": "code",
   "execution_count": 2,
   "metadata": {
    "collapsed": true
   },
   "outputs": [],
   "source": [
    "import pandas as pd\n",
    "import matplotlib.pyplot as plt\n",
    "%matplotlib inline\n",
    "import numpy as np\n",
    "from __future__ import division\n"
   ]
  },
  {
   "cell_type": "code",
   "execution_count": 3,
   "metadata": {
    "collapsed": false
   },
   "outputs": [
    {
     "data": {
      "text/html": [
       "<style>body {\n",
       "    margin: 0;\n",
       "    font-family: Helvetica;\n",
       "}\n",
       "table.dataframe {\n",
       "    border-collapse: collapse;\n",
       "    border: none;\n",
       "}\n",
       "table.dataframe tr {\n",
       "    border: none;\n",
       "}\n",
       "table.dataframe td, table.dataframe th {\n",
       "    margin: 0;\n",
       "    border: 1px solid white;\n",
       "    padding-left: 0.25em;\n",
       "    padding-right: 0.25em;\n",
       "}\n",
       "table.dataframe th:not(:empty) {\n",
       "    background-color: #fec;\n",
       "    text-align: left;\n",
       "    font-weight: normal;\n",
       "}\n",
       "table.dataframe tr:nth-child(2) th:empty {\n",
       "    border-left: none;\n",
       "    border-right: 1px dashed #888;\n",
       "}\n",
       "table.dataframe td {\n",
       "    border: 2px solid #ccf;\n",
       "    background-color: #f4f4ff;\n",
       "}\n",
       "h3 {\n",
       "    color: white;\n",
       "    background-color: black;\n",
       "    padding: 0.5em;\n",
       "}\n",
       "</style>"
      ],
      "text/plain": [
       "<IPython.core.display.HTML object>"
      ]
     },
     "execution_count": 3,
     "metadata": {},
     "output_type": "execute_result"
    }
   ],
   "source": [
    "#make the pandas look easier to read\n",
    "from IPython.core.display import HTML\n",
    "css = open('style-table.css').read() + open('style-notebook.css').read()\n",
    "HTML('<style>{}</style>'.format(css))"
   ]
  },
  {
   "cell_type": "code",
   "execution_count": 4,
   "metadata": {
    "collapsed": false
   },
   "outputs": [
    {
     "data": {
      "text/html": [
       "<div>\n",
       "<table border=\"1\" class=\"dataframe\">\n",
       "  <thead>\n",
       "    <tr style=\"text-align: right;\">\n",
       "      <th></th>\n",
       "      <th>user_id</th>\n",
       "      <th>action</th>\n",
       "      <th>action_type</th>\n",
       "      <th>action_detail</th>\n",
       "      <th>device_type</th>\n",
       "      <th>secs_elapsed</th>\n",
       "    </tr>\n",
       "  </thead>\n",
       "  <tbody>\n",
       "    <tr>\n",
       "      <th>0</th>\n",
       "      <td>d1mm9tcy42</td>\n",
       "      <td>lookup</td>\n",
       "      <td>NaN</td>\n",
       "      <td>NaN</td>\n",
       "      <td>Windows Desktop</td>\n",
       "      <td>319</td>\n",
       "    </tr>\n",
       "    <tr>\n",
       "      <th>1</th>\n",
       "      <td>d1mm9tcy42</td>\n",
       "      <td>search_results</td>\n",
       "      <td>click</td>\n",
       "      <td>view_search_results</td>\n",
       "      <td>Windows Desktop</td>\n",
       "      <td>67753</td>\n",
       "    </tr>\n",
       "    <tr>\n",
       "      <th>2</th>\n",
       "      <td>d1mm9tcy42</td>\n",
       "      <td>lookup</td>\n",
       "      <td>NaN</td>\n",
       "      <td>NaN</td>\n",
       "      <td>Windows Desktop</td>\n",
       "      <td>301</td>\n",
       "    </tr>\n",
       "    <tr>\n",
       "      <th>3</th>\n",
       "      <td>d1mm9tcy42</td>\n",
       "      <td>search_results</td>\n",
       "      <td>click</td>\n",
       "      <td>view_search_results</td>\n",
       "      <td>Windows Desktop</td>\n",
       "      <td>22141</td>\n",
       "    </tr>\n",
       "    <tr>\n",
       "      <th>4</th>\n",
       "      <td>d1mm9tcy42</td>\n",
       "      <td>lookup</td>\n",
       "      <td>NaN</td>\n",
       "      <td>NaN</td>\n",
       "      <td>Windows Desktop</td>\n",
       "      <td>435</td>\n",
       "    </tr>\n",
       "  </tbody>\n",
       "</table>\n",
       "</div>"
      ],
      "text/plain": [
       "      user_id          action action_type        action_detail  \\\n",
       "0  d1mm9tcy42          lookup         NaN                  NaN   \n",
       "1  d1mm9tcy42  search_results       click  view_search_results   \n",
       "2  d1mm9tcy42          lookup         NaN                  NaN   \n",
       "3  d1mm9tcy42  search_results       click  view_search_results   \n",
       "4  d1mm9tcy42          lookup         NaN                  NaN   \n",
       "\n",
       "       device_type  secs_elapsed  \n",
       "0  Windows Desktop           319  \n",
       "1  Windows Desktop         67753  \n",
       "2  Windows Desktop           301  \n",
       "3  Windows Desktop         22141  \n",
       "4  Windows Desktop           435  "
      ]
     },
     "execution_count": 4,
     "metadata": {},
     "output_type": "execute_result"
    }
   ],
   "source": [
    "df_ses=pd.read_csv('sessions.csv')\n",
    "df_ses.head()"
   ]
  },
  {
   "cell_type": "markdown",
   "metadata": {},
   "source": [
    "Note that for each user_id, there are multiple entries in the table above. This is consistant to the fact that a users is related to many different web sessions. However, this causes the problem that that machine learning algorithms can not use the data in this table directly. This is because there is not a obvious way we can merge this table with the users table in which there is only one uniqe entry for each user. Next, I will figure out how to solve this issue. "
   ]
  },
  {
   "cell_type": "markdown",
   "metadata": {},
   "source": [
    "There are five features in this table: 'user_id', 'action', 'action_type', 'action_detail', 'device_type', 'secs_elapsed'. In this notebook, the first three features are investigated. Namely, 'action', 'action_type', 'action_detail' are analized.\n",
    "\n",
    "Next let's see these features one by one."
   ]
  },
  {
   "cell_type": "markdown",
   "metadata": {},
   "source": [
    "### action_type"
   ]
  },
  {
   "cell_type": "code",
   "execution_count": 5,
   "metadata": {
    "collapsed": false
   },
   "outputs": [
    {
     "name": "stdout",
     "output_type": "stream",
     "text": [
      "There are 11 different values that action_type can take.\n"
     ]
    }
   ],
   "source": [
    "print 'There are %d different values that action_type can take.' %len(df_ses.action_type.value_counts(dropna = False))"
   ]
  },
  {
   "cell_type": "markdown",
   "metadata": {},
   "source": [
    "Let's see the occurance for each value of action_type."
   ]
  },
  {
   "cell_type": "code",
   "execution_count": 6,
   "metadata": {
    "collapsed": false,
    "scrolled": false
   },
   "outputs": [
    {
     "data": {
      "text/plain": [
       "<matplotlib.axes._subplots.AxesSubplot at 0x9a31e10>"
      ]
     },
     "execution_count": 6,
     "metadata": {},
     "output_type": "execute_result"
    },
    {
     "data": {
      "image/png": "[encoded data removed]",
      "text/plain": [
       "<matplotlib.figure.Figure at 0x87216a0>"
      ]
     },
     "metadata": {},
     "output_type": "display_data"
    }
   ],
   "source": [
    "df_ses.action_type.value_counts(dropna = False).plot(kind='bar',color = 'bbbrbbbbbbbbb',rot=70)"
   ]
  },
  {
   "cell_type": "markdown",
   "metadata": {},
   "source": [
    "There are 11 different values that 'action_type' can take. The occurances of these different action types may be counted (aggregated) and used as an individual feature. Therefore, by doing this feature split, 11 new features come out of the original feature 'action_type'. Since there are no details about the time these activities happen, no temporal structure can be revealed furthermore. "
   ]
  },
  {
   "cell_type": "markdown",
   "metadata": {},
   "source": [
    "\n",
    "Similarly, if we ignore the values with very few occurance.  if we ignore the values with very few occurance,  '_action_'and- '_action_detail_' can also be addressed the same way as there are very limited amount of values for them. "
   ]
  },
  {
   "cell_type": "markdown",
   "metadata": {},
   "source": [
    "### action"
   ]
  },
  {
   "cell_type": "code",
   "execution_count": 7,
   "metadata": {
    "collapsed": false
   },
   "outputs": [
    {
     "name": "stdout",
     "output_type": "stream",
     "text": [
      "There are 360 different values that action can take.\n"
     ]
    }
   ],
   "source": [
    "print 'There are %d different values that action can take.' %len(df_ses.action.value_counts(dropna = False))"
   ]
  },
  {
   "cell_type": "markdown",
   "metadata": {},
   "source": [
    "The number of different values that action can take is too big to do the split, which will render too many new features. Let's try to see if the most several occued values dominate. Specifically, let's see the percentage of the first 20 most frequently occured actions."
   ]
  },
  {
   "cell_type": "markdown",
   "metadata": {},
   "source": [
    "Let's first take a look at the first most occured actions:"
   ]
  },
  {
   "cell_type": "code",
   "execution_count": 8,
   "metadata": {
    "collapsed": false,
    "scrolled": false
   },
   "outputs": [
    {
     "name": "stdout",
     "output_type": "stream",
     "text": [
      "We have 10567737 total values in the tables\n"
     ]
    },
    {
     "data": {
      "text/plain": [
       "show                     2768278\n",
       "index                     843699\n",
       "search_results            725226\n",
       "personalize               706824\n",
       "search                    536057\n",
       "ajax_refresh_subtotal     487744\n",
       "update                    365130\n",
       "similar_listings          364624\n",
       "social_connections        339000\n",
       "reviews                   320591\n",
       "active                    188036\n",
       "similar_listings_v2       168788\n",
       "lookup                    162041\n",
       "create                    155887\n",
       "dashboard                 152952\n",
       "header_userpic            141830\n",
       "collections               124417\n",
       "edit                      109083\n",
       "campaigns                 105028\n",
       "track_page_view            81117\n",
       "Name: action, dtype: int64"
      ]
     },
     "execution_count": 8,
     "metadata": {},
     "output_type": "execute_result"
    }
   ],
   "source": [
    "action_value_counts = df_ses.action.value_counts(dropna = False)\n",
    "print 'We have %d total values in the tables'%len(df_ses)\n",
    "action_value_counts[:20]"
   ]
  },
  {
   "cell_type": "markdown",
   "metadata": {},
   "source": [
    "The difference among the occurances of different actions are in an order of magnitude. This is a good sign that ."
   ]
  },
  {
   "cell_type": "code",
   "execution_count": 9,
   "metadata": {
    "collapsed": false
   },
   "outputs": [
    {
     "data": {
      "text/plain": [
       "0.8371094019466987"
      ]
     },
     "execution_count": 9,
     "metadata": {},
     "output_type": "execute_result"
    }
   ],
   "source": [
    "df_ses.action.value_counts(dropna = False)[0:20].sum()/len(df_ses)"
   ]
  },
  {
   "cell_type": "markdown",
   "metadata": {},
   "source": [
    "It can be seen that 83.7% of the actions of all users can be capatured by the the most frequently occurring 20 values for actions. This may suggest that it is a good idea to use the most frequently occurring 20 values for actions, i.e., 'show', 'index',..., track_page_view as new features. By doing this, we do not create too many features, which incur potential computation and overfitting problems. \n",
    "\n",
    "Moreover, similar stragegy also applies to the original feature 'action_detail'. Specifically, only the mmost frequently occurring 20 values for action_detail are used to capture 88.4% of  the actions of all users. This is shown next."
   ]
  },
  {
   "cell_type": "markdown",
   "metadata": {},
   "source": [
    "### action_detail"
   ]
  },
  {
   "cell_type": "code",
   "execution_count": 10,
   "metadata": {
    "collapsed": false
   },
   "outputs": [
    {
     "name": "stdout",
     "output_type": "stream",
     "text": [
      "There are 156 different values that action_detail can take.\n"
     ]
    }
   ],
   "source": [
    "print 'There are %d different values that action_detail can take.' %len(df_ses.action_detail.value_counts(dropna = False))"
   ]
  },
  {
   "cell_type": "code",
   "execution_count": 11,
   "metadata": {
    "collapsed": false,
    "scrolled": false
   },
   "outputs": [
    {
     "data": {
      "text/plain": [
       "view_search_results            1776885\n",
       "p3                             1376550\n",
       "NaN                            1126204\n",
       "-unknown-                      1031141\n",
       "wishlist_content_update         706824\n",
       "user_profile                    656839\n",
       "change_trip_characteristics     487744\n",
       "similar_listings                364624\n",
       "user_social_connections         336799\n",
       "update_listing                  269779\n",
       "listing_reviews                 269021\n",
       "dashboard                       152952\n",
       "user_wishlists                  152672\n",
       "header_userpic                  141830\n",
       "message_thread                  132395\n",
       "edit_profile                    108686\n",
       "message_post                     87103\n",
       "contact_host                     81041\n",
       "unavailable_dates                77795\n",
       "confirm_email_link               58422\n",
       "Name: action_detail, dtype: int64"
      ]
     },
     "execution_count": 11,
     "metadata": {},
     "output_type": "execute_result"
    }
   ],
   "source": [
    "action_detail_value_counts = df_ses.action_detail.value_counts(dropna = False)\n",
    "action_detail_value_counts[:20]"
   ]
  },
  {
   "cell_type": "markdown",
   "metadata": {},
   "source": [
    "The difference between occurances for differnt values of action_detail is also in order of magnitudes."
   ]
  },
  {
   "cell_type": "code",
   "execution_count": 12,
   "metadata": {
    "collapsed": false,
    "scrolled": true
   },
   "outputs": [
    {
     "data": {
      "text/plain": [
       "0.8835272868732444"
      ]
     },
     "execution_count": 12,
     "metadata": {},
     "output_type": "execute_result"
    }
   ],
   "source": [
    "df_ses.action_detail.value_counts(dropna = False)[0:19].sum()/len(df_ses)"
   ]
  },
  {
   "cell_type": "markdown",
   "metadata": {},
   "source": [
    "88.4% of the actions of all users can be capatured by the the most frequently occurring 20 values for action_detail. "
   ]
  },
  {
   "cell_type": "markdown",
   "metadata": {},
   "source": [
    "#### Summary: \n",
    "This note book is concluded that around 50 new features can be extracted from the orginal three raw features, namely 'action_type', 'action', 'action_detail'. The new features are suitable as the inputs to machine lerning algorithm. They captures the most information in the original raw data in the web session table. The details about the feature extration for this table is in the note book 'Feature_engineering__Session_feature_Extraction'."
   ]
  },
  {
   "cell_type": "markdown",
   "metadata": {},
   "source": [
    "### Feature extraction"
   ]
  },
  {
   "cell_type": "markdown",
   "metadata": {},
   "source": [
    "New features are extracted from session dataFrame by using feature splitting combined aggregation. As introduced above, a possible value of one of the original feature (action_type/action/action_detail) is used as a new feature and the occurances are counted as the value of the new feature. For instance, 'view' is a value of 'action_type', for each user, the number of 'view's is counted and used as the value of the new feature 'view'. \n",
    "\n",
    "It is noted that as for 'action' and 'action_detail', only the most frequently occurring 20 values are used as the new features."
   ]
  },
  {
   "cell_type": "markdown",
   "metadata": {},
   "source": [
    "Checking missing value: "
   ]
  },
  {
   "cell_type": "code",
   "execution_count": 14,
   "metadata": {
    "collapsed": false,
    "scrolled": true
   },
   "outputs": [
    {
     "data": {
      "text/plain": [
       "user_id          10533241\n",
       "action           10488111\n",
       "action_type       9441533\n",
       "action_detail     9441533\n",
       "device_type      10567737\n",
       "secs_elapsed     10431706\n",
       "dtype: int64"
      ]
     },
     "execution_count": 14,
     "metadata": {},
     "output_type": "execute_result"
    }
   ],
   "source": [
    "df_ses.count()"
   ]
  },
  {
   "cell_type": "code",
   "execution_count": 15,
   "metadata": {
    "collapsed": true
   },
   "outputs": [],
   "source": [
    "#Remove rows with missing IDs\n",
    "df_ses.user_id.replace(np.nan, 'Missing_ID',inplace = True)\n",
    "d_removed = df_ses[df_ses.user_id != 'Missing_ID'].copy()\n",
    "\n",
    "#Fill missing values for each column with a different name.\n",
    "d_removed.action_type.replace(np.nan, 'Missing_actt',inplace = True)\n",
    "d_removed.action.replace(np.nan, 'Missing_act',inplace = True)\n",
    "d_removed.action_detail.replace(np.nan, 'Missing_actd',inplace = True)"
   ]
  },
  {
   "cell_type": "markdown",
   "metadata": {},
   "source": [
    "#### Feature extraction from action_type"
   ]
  },
  {
   "cell_type": "markdown",
   "metadata": {},
   "source": [
    "For each unique user_id, the number of occurances is counted for  each value of action_type, e.g., the number of occurance of 'click' for user 'd1mm9tcy42' is counted, and the result is used as the value of the new feature 'click'."
   ]
  },
  {
   "cell_type": "code",
   "execution_count": 16,
   "metadata": {
    "collapsed": false,
    "scrolled": true
   },
   "outputs": [
    {
     "data": {
      "text/html": [
       "<div>\n",
       "<table border=\"1\" class=\"dataframe\">\n",
       "  <thead>\n",
       "    <tr style=\"text-align: right;\">\n",
       "      <th>action_type</th>\n",
       "      <th>-unknown-</th>\n",
       "      <th>Missing_actt</th>\n",
       "      <th>booking_request</th>\n",
       "      <th>booking_response</th>\n",
       "      <th>click</th>\n",
       "      <th>data</th>\n",
       "      <th>message_post</th>\n",
       "      <th>modify</th>\n",
       "      <th>partner_callback</th>\n",
       "      <th>submit</th>\n",
       "      <th>view</th>\n",
       "    </tr>\n",
       "    <tr>\n",
       "      <th>user_id</th>\n",
       "      <th></th>\n",
       "      <th></th>\n",
       "      <th></th>\n",
       "      <th></th>\n",
       "      <th></th>\n",
       "      <th></th>\n",
       "      <th></th>\n",
       "      <th></th>\n",
       "      <th></th>\n",
       "      <th></th>\n",
       "      <th></th>\n",
       "    </tr>\n",
       "  </thead>\n",
       "  <tbody>\n",
       "    <tr>\n",
       "      <th>00023iyk9l</th>\n",
       "      <td>0</td>\n",
       "      <td>3</td>\n",
       "      <td>1</td>\n",
       "      <td>0</td>\n",
       "      <td>4</td>\n",
       "      <td>9</td>\n",
       "      <td>1</td>\n",
       "      <td>0</td>\n",
       "      <td>1</td>\n",
       "      <td>0</td>\n",
       "      <td>21</td>\n",
       "    </tr>\n",
       "    <tr>\n",
       "      <th>0010k6l0om</th>\n",
       "      <td>5</td>\n",
       "      <td>15</td>\n",
       "      <td>0</td>\n",
       "      <td>0</td>\n",
       "      <td>16</td>\n",
       "      <td>9</td>\n",
       "      <td>0</td>\n",
       "      <td>0</td>\n",
       "      <td>1</td>\n",
       "      <td>0</td>\n",
       "      <td>17</td>\n",
       "    </tr>\n",
       "    <tr>\n",
       "      <th>001wyh0pz8</th>\n",
       "      <td>6</td>\n",
       "      <td>5</td>\n",
       "      <td>0</td>\n",
       "      <td>0</td>\n",
       "      <td>66</td>\n",
       "      <td>2</td>\n",
       "      <td>0</td>\n",
       "      <td>0</td>\n",
       "      <td>0</td>\n",
       "      <td>3</td>\n",
       "      <td>8</td>\n",
       "    </tr>\n",
       "    <tr>\n",
       "      <th>0028jgx1x1</th>\n",
       "      <td>1</td>\n",
       "      <td>0</td>\n",
       "      <td>0</td>\n",
       "      <td>0</td>\n",
       "      <td>9</td>\n",
       "      <td>5</td>\n",
       "      <td>0</td>\n",
       "      <td>0</td>\n",
       "      <td>0</td>\n",
       "      <td>1</td>\n",
       "      <td>15</td>\n",
       "    </tr>\n",
       "    <tr>\n",
       "      <th>002qnbzfs5</th>\n",
       "      <td>184</td>\n",
       "      <td>77</td>\n",
       "      <td>1</td>\n",
       "      <td>0</td>\n",
       "      <td>140</td>\n",
       "      <td>140</td>\n",
       "      <td>16</td>\n",
       "      <td>0</td>\n",
       "      <td>0</td>\n",
       "      <td>15</td>\n",
       "      <td>216</td>\n",
       "    </tr>\n",
       "  </tbody>\n",
       "</table>\n",
       "</div>"
      ],
      "text/plain": [
       "action_type  -unknown-  Missing_actt  booking_request  booking_response  \\\n",
       "user_id                                                                   \n",
       "00023iyk9l           0             3                1                 0   \n",
       "0010k6l0om           5            15                0                 0   \n",
       "001wyh0pz8           6             5                0                 0   \n",
       "0028jgx1x1           1             0                0                 0   \n",
       "002qnbzfs5         184            77                1                 0   \n",
       "\n",
       "action_type  click  data  message_post  modify  partner_callback  submit  view  \n",
       "user_id                                                                         \n",
       "00023iyk9l       4     9             1       0                 1       0    21  \n",
       "0010k6l0om      16     9             0       0                 1       0    17  \n",
       "001wyh0pz8      66     2             0       0                 0       3     8  \n",
       "0028jgx1x1       9     5             0       0                 0       1    15  \n",
       "002qnbzfs5     140   140            16       0                 0      15   216  "
      ]
     },
     "execution_count": 16,
     "metadata": {},
     "output_type": "execute_result"
    }
   ],
   "source": [
    "g = d_removed.groupby(['user_id','action_type']).size()\n",
    "df_action_t = g.unstack('action_type').fillna(0) #\n",
    "df_action_t.head()"
   ]
  },
  {
   "cell_type": "markdown",
   "metadata": {},
   "source": [
    "#### Feature extraction from action"
   ]
  },
  {
   "cell_type": "code",
   "execution_count": 17,
   "metadata": {
    "collapsed": false
   },
   "outputs": [
    {
     "data": {
      "text/html": [
       "<div>\n",
       "<table border=\"1\" class=\"dataframe\">\n",
       "  <thead>\n",
       "    <tr style=\"text-align: right;\">\n",
       "      <th>action</th>\n",
       "      <th>active</th>\n",
       "      <th>ajax_refresh_subtotal</th>\n",
       "      <th>campaigns</th>\n",
       "      <th>collections</th>\n",
       "      <th>create</th>\n",
       "      <th>dashboard</th>\n",
       "      <th>edit</th>\n",
       "      <th>header_userpic</th>\n",
       "      <th>index</th>\n",
       "      <th>lookup</th>\n",
       "      <th>personalize</th>\n",
       "      <th>reviews</th>\n",
       "      <th>search</th>\n",
       "      <th>search_results</th>\n",
       "      <th>show</th>\n",
       "      <th>similar_listings</th>\n",
       "      <th>similar_listings_v2</th>\n",
       "      <th>social_connections</th>\n",
       "      <th>track_page_view</th>\n",
       "      <th>update</th>\n",
       "    </tr>\n",
       "    <tr>\n",
       "      <th>user_id</th>\n",
       "      <th></th>\n",
       "      <th></th>\n",
       "      <th></th>\n",
       "      <th></th>\n",
       "      <th></th>\n",
       "      <th></th>\n",
       "      <th></th>\n",
       "      <th></th>\n",
       "      <th></th>\n",
       "      <th></th>\n",
       "      <th></th>\n",
       "      <th></th>\n",
       "      <th></th>\n",
       "      <th></th>\n",
       "      <th></th>\n",
       "      <th></th>\n",
       "      <th></th>\n",
       "      <th></th>\n",
       "      <th></th>\n",
       "      <th></th>\n",
       "    </tr>\n",
       "  </thead>\n",
       "  <tbody>\n",
       "    <tr>\n",
       "      <th>00023iyk9l</th>\n",
       "      <td>0</td>\n",
       "      <td>2</td>\n",
       "      <td>0</td>\n",
       "      <td>0</td>\n",
       "      <td>0</td>\n",
       "      <td>4</td>\n",
       "      <td>0</td>\n",
       "      <td>2</td>\n",
       "      <td>4</td>\n",
       "      <td>0</td>\n",
       "      <td>4</td>\n",
       "      <td>0</td>\n",
       "      <td>0</td>\n",
       "      <td>1</td>\n",
       "      <td>9</td>\n",
       "      <td>3</td>\n",
       "      <td>0</td>\n",
       "      <td>0</td>\n",
       "      <td>0</td>\n",
       "      <td>0</td>\n",
       "    </tr>\n",
       "    <tr>\n",
       "      <th>0010k6l0om</th>\n",
       "      <td>0</td>\n",
       "      <td>8</td>\n",
       "      <td>0</td>\n",
       "      <td>0</td>\n",
       "      <td>0</td>\n",
       "      <td>2</td>\n",
       "      <td>0</td>\n",
       "      <td>1</td>\n",
       "      <td>5</td>\n",
       "      <td>0</td>\n",
       "      <td>8</td>\n",
       "      <td>0</td>\n",
       "      <td>0</td>\n",
       "      <td>8</td>\n",
       "      <td>20</td>\n",
       "      <td>0</td>\n",
       "      <td>8</td>\n",
       "      <td>0</td>\n",
       "      <td>0</td>\n",
       "      <td>0</td>\n",
       "    </tr>\n",
       "    <tr>\n",
       "      <th>001wyh0pz8</th>\n",
       "      <td>4</td>\n",
       "      <td>0</td>\n",
       "      <td>3</td>\n",
       "      <td>4</td>\n",
       "      <td>1</td>\n",
       "      <td>0</td>\n",
       "      <td>0</td>\n",
       "      <td>0</td>\n",
       "      <td>2</td>\n",
       "      <td>0</td>\n",
       "      <td>0</td>\n",
       "      <td>0</td>\n",
       "      <td>66</td>\n",
       "      <td>0</td>\n",
       "      <td>6</td>\n",
       "      <td>0</td>\n",
       "      <td>0</td>\n",
       "      <td>2</td>\n",
       "      <td>0</td>\n",
       "      <td>1</td>\n",
       "    </tr>\n",
       "    <tr>\n",
       "      <th>0028jgx1x1</th>\n",
       "      <td>1</td>\n",
       "      <td>0</td>\n",
       "      <td>0</td>\n",
       "      <td>0</td>\n",
       "      <td>1</td>\n",
       "      <td>0</td>\n",
       "      <td>0</td>\n",
       "      <td>0</td>\n",
       "      <td>0</td>\n",
       "      <td>0</td>\n",
       "      <td>0</td>\n",
       "      <td>5</td>\n",
       "      <td>9</td>\n",
       "      <td>0</td>\n",
       "      <td>15</td>\n",
       "      <td>0</td>\n",
       "      <td>0</td>\n",
       "      <td>0</td>\n",
       "      <td>0</td>\n",
       "      <td>0</td>\n",
       "    </tr>\n",
       "    <tr>\n",
       "      <th>002qnbzfs5</th>\n",
       "      <td>29</td>\n",
       "      <td>0</td>\n",
       "      <td>28</td>\n",
       "      <td>0</td>\n",
       "      <td>21</td>\n",
       "      <td>2</td>\n",
       "      <td>0</td>\n",
       "      <td>2</td>\n",
       "      <td>115</td>\n",
       "      <td>0</td>\n",
       "      <td>0</td>\n",
       "      <td>13</td>\n",
       "      <td>125</td>\n",
       "      <td>0</td>\n",
       "      <td>232</td>\n",
       "      <td>0</td>\n",
       "      <td>0</td>\n",
       "      <td>72</td>\n",
       "      <td>0</td>\n",
       "      <td>13</td>\n",
       "    </tr>\n",
       "  </tbody>\n",
       "</table>\n",
       "</div>"
      ],
      "text/plain": [
       "action      active  ajax_refresh_subtotal  campaigns  collections  create  \\\n",
       "user_id                                                                     \n",
       "00023iyk9l       0                      2          0            0       0   \n",
       "0010k6l0om       0                      8          0            0       0   \n",
       "001wyh0pz8       4                      0          3            4       1   \n",
       "0028jgx1x1       1                      0          0            0       1   \n",
       "002qnbzfs5      29                      0         28            0      21   \n",
       "\n",
       "action      dashboard  edit  header_userpic  index  lookup  personalize  \\\n",
       "user_id                                                                   \n",
       "00023iyk9l          4     0               2      4       0            4   \n",
       "0010k6l0om          2     0               1      5       0            8   \n",
       "001wyh0pz8          0     0               0      2       0            0   \n",
       "0028jgx1x1          0     0               0      0       0            0   \n",
       "002qnbzfs5          2     0               2    115       0            0   \n",
       "\n",
       "action      reviews  search  search_results  show  similar_listings  \\\n",
       "user_id                                                               \n",
       "00023iyk9l        0       0               1     9                 3   \n",
       "0010k6l0om        0       0               8    20                 0   \n",
       "001wyh0pz8        0      66               0     6                 0   \n",
       "0028jgx1x1        5       9               0    15                 0   \n",
       "002qnbzfs5       13     125               0   232                 0   \n",
       "\n",
       "action      similar_listings_v2  social_connections  track_page_view  update  \n",
       "user_id                                                                       \n",
       "00023iyk9l                    0                   0                0       0  \n",
       "0010k6l0om                    8                   0                0       0  \n",
       "001wyh0pz8                    0                   2                0       1  \n",
       "0028jgx1x1                    0                   0                0       0  \n",
       "002qnbzfs5                    0                  72                0      13  "
      ]
     },
     "execution_count": 17,
     "metadata": {},
     "output_type": "execute_result"
    }
   ],
   "source": [
    "#focus only on rows with most 20 frequent valus of 'action'\n",
    "counted_list = d_removed.action.value_counts().index[:20]\n",
    "d = d_removed[d_removed.action.isin(counted_list)]\n",
    "#groupby and unstack\n",
    "g = d.groupby(['user_id','action']).size()\n",
    "df_action = g.unstack('action').fillna(0) #\n",
    "df_action.head()"
   ]
  },
  {
   "cell_type": "markdown",
   "metadata": {},
   "source": [
    "#### Feature extraction from action_detail"
   ]
  },
  {
   "cell_type": "code",
   "execution_count": 18,
   "metadata": {
    "collapsed": false,
    "scrolled": false
   },
   "outputs": [
    {
     "data": {
      "text/html": [
       "<div>\n",
       "<table border=\"1\" class=\"dataframe\">\n",
       "  <thead>\n",
       "    <tr style=\"text-align: right;\">\n",
       "      <th>action_detail</th>\n",
       "      <th>-unknown-</th>\n",
       "      <th>Missing_actd</th>\n",
       "      <th>change_trip_characteristics</th>\n",
       "      <th>confirm_email_link</th>\n",
       "      <th>contact_host</th>\n",
       "      <th>dashboard</th>\n",
       "      <th>edit_profile</th>\n",
       "      <th>header_userpic</th>\n",
       "      <th>listing_reviews</th>\n",
       "      <th>message_post</th>\n",
       "      <th>message_thread</th>\n",
       "      <th>p3</th>\n",
       "      <th>similar_listings</th>\n",
       "      <th>unavailable_dates</th>\n",
       "      <th>update_listing</th>\n",
       "      <th>user_profile</th>\n",
       "      <th>user_social_connections</th>\n",
       "      <th>user_wishlists</th>\n",
       "      <th>view_search_results</th>\n",
       "      <th>wishlist_content_update</th>\n",
       "    </tr>\n",
       "    <tr>\n",
       "      <th>user_id</th>\n",
       "      <th></th>\n",
       "      <th></th>\n",
       "      <th></th>\n",
       "      <th></th>\n",
       "      <th></th>\n",
       "      <th></th>\n",
       "      <th></th>\n",
       "      <th></th>\n",
       "      <th></th>\n",
       "      <th></th>\n",
       "      <th></th>\n",
       "      <th></th>\n",
       "      <th></th>\n",
       "      <th></th>\n",
       "      <th></th>\n",
       "      <th></th>\n",
       "      <th></th>\n",
       "      <th></th>\n",
       "      <th></th>\n",
       "      <th></th>\n",
       "    </tr>\n",
       "  </thead>\n",
       "  <tbody>\n",
       "    <tr>\n",
       "      <th>00023iyk9l</th>\n",
       "      <td>0</td>\n",
       "      <td>3</td>\n",
       "      <td>2</td>\n",
       "      <td>1</td>\n",
       "      <td>0</td>\n",
       "      <td>4</td>\n",
       "      <td>0</td>\n",
       "      <td>2</td>\n",
       "      <td>0</td>\n",
       "      <td>1</td>\n",
       "      <td>0</td>\n",
       "      <td>6</td>\n",
       "      <td>3</td>\n",
       "      <td>0</td>\n",
       "      <td>0</td>\n",
       "      <td>0</td>\n",
       "      <td>0</td>\n",
       "      <td>0</td>\n",
       "      <td>5</td>\n",
       "      <td>4</td>\n",
       "    </tr>\n",
       "    <tr>\n",
       "      <th>0010k6l0om</th>\n",
       "      <td>5</td>\n",
       "      <td>15</td>\n",
       "      <td>8</td>\n",
       "      <td>0</td>\n",
       "      <td>0</td>\n",
       "      <td>2</td>\n",
       "      <td>0</td>\n",
       "      <td>1</td>\n",
       "      <td>0</td>\n",
       "      <td>0</td>\n",
       "      <td>0</td>\n",
       "      <td>13</td>\n",
       "      <td>0</td>\n",
       "      <td>0</td>\n",
       "      <td>0</td>\n",
       "      <td>0</td>\n",
       "      <td>0</td>\n",
       "      <td>0</td>\n",
       "      <td>10</td>\n",
       "      <td>8</td>\n",
       "    </tr>\n",
       "    <tr>\n",
       "      <th>001wyh0pz8</th>\n",
       "      <td>6</td>\n",
       "      <td>5</td>\n",
       "      <td>0</td>\n",
       "      <td>0</td>\n",
       "      <td>0</td>\n",
       "      <td>0</td>\n",
       "      <td>0</td>\n",
       "      <td>0</td>\n",
       "      <td>0</td>\n",
       "      <td>0</td>\n",
       "      <td>0</td>\n",
       "      <td>2</td>\n",
       "      <td>0</td>\n",
       "      <td>0</td>\n",
       "      <td>0</td>\n",
       "      <td>2</td>\n",
       "      <td>2</td>\n",
       "      <td>4</td>\n",
       "      <td>66</td>\n",
       "      <td>0</td>\n",
       "    </tr>\n",
       "    <tr>\n",
       "      <th>0028jgx1x1</th>\n",
       "      <td>1</td>\n",
       "      <td>0</td>\n",
       "      <td>0</td>\n",
       "      <td>0</td>\n",
       "      <td>0</td>\n",
       "      <td>0</td>\n",
       "      <td>0</td>\n",
       "      <td>0</td>\n",
       "      <td>5</td>\n",
       "      <td>0</td>\n",
       "      <td>0</td>\n",
       "      <td>9</td>\n",
       "      <td>0</td>\n",
       "      <td>0</td>\n",
       "      <td>0</td>\n",
       "      <td>6</td>\n",
       "      <td>0</td>\n",
       "      <td>0</td>\n",
       "      <td>9</td>\n",
       "      <td>0</td>\n",
       "    </tr>\n",
       "    <tr>\n",
       "      <th>002qnbzfs5</th>\n",
       "      <td>184</td>\n",
       "      <td>77</td>\n",
       "      <td>0</td>\n",
       "      <td>1</td>\n",
       "      <td>8</td>\n",
       "      <td>2</td>\n",
       "      <td>0</td>\n",
       "      <td>2</td>\n",
       "      <td>10</td>\n",
       "      <td>16</td>\n",
       "      <td>0</td>\n",
       "      <td>25</td>\n",
       "      <td>0</td>\n",
       "      <td>21</td>\n",
       "      <td>0</td>\n",
       "      <td>109</td>\n",
       "      <td>72</td>\n",
       "      <td>0</td>\n",
       "      <td>125</td>\n",
       "      <td>0</td>\n",
       "    </tr>\n",
       "  </tbody>\n",
       "</table>\n",
       "</div>"
      ],
      "text/plain": [
       "action_detail  -unknown-  Missing_actd  change_trip_characteristics  \\\n",
       "user_id                                                               \n",
       "00023iyk9l             0             3                            2   \n",
       "0010k6l0om             5            15                            8   \n",
       "001wyh0pz8             6             5                            0   \n",
       "0028jgx1x1             1             0                            0   \n",
       "002qnbzfs5           184            77                            0   \n",
       "\n",
       "action_detail  confirm_email_link  contact_host  dashboard  edit_profile  \\\n",
       "user_id                                                                    \n",
       "00023iyk9l                      1             0          4             0   \n",
       "0010k6l0om                      0             0          2             0   \n",
       "001wyh0pz8                      0             0          0             0   \n",
       "0028jgx1x1                      0             0          0             0   \n",
       "002qnbzfs5                      1             8          2             0   \n",
       "\n",
       "action_detail  header_userpic  listing_reviews  message_post  message_thread  \\\n",
       "user_id                                                                        \n",
       "00023iyk9l                  2                0             1               0   \n",
       "0010k6l0om                  1                0             0               0   \n",
       "001wyh0pz8                  0                0             0               0   \n",
       "0028jgx1x1                  0                5             0               0   \n",
       "002qnbzfs5                  2               10            16               0   \n",
       "\n",
       "action_detail  p3  similar_listings  unavailable_dates  update_listing  \\\n",
       "user_id                                                                  \n",
       "00023iyk9l      6                 3                  0               0   \n",
       "0010k6l0om     13                 0                  0               0   \n",
       "001wyh0pz8      2                 0                  0               0   \n",
       "0028jgx1x1      9                 0                  0               0   \n",
       "002qnbzfs5     25                 0                 21               0   \n",
       "\n",
       "action_detail  user_profile  user_social_connections  user_wishlists  \\\n",
       "user_id                                                                \n",
       "00023iyk9l                0                        0               0   \n",
       "0010k6l0om                0                        0               0   \n",
       "001wyh0pz8                2                        2               4   \n",
       "0028jgx1x1                6                        0               0   \n",
       "002qnbzfs5              109                       72               0   \n",
       "\n",
       "action_detail  view_search_results  wishlist_content_update  \n",
       "user_id                                                      \n",
       "00023iyk9l                       5                        4  \n",
       "0010k6l0om                      10                        8  \n",
       "001wyh0pz8                      66                        0  \n",
       "0028jgx1x1                       9                        0  \n",
       "002qnbzfs5                     125                        0  "
      ]
     },
     "execution_count": 18,
     "metadata": {},
     "output_type": "execute_result"
    }
   ],
   "source": [
    "#Focusing on rows with most 20 frequent valus of 'action'\n",
    "counted_list = d_removed.action_detail.value_counts().index[:20]\n",
    "d = d_removed[d_removed.action_detail.isin(counted_list)]\n",
    "#groupby and unstack\n",
    "g = d.groupby(['user_id','action_detail']).size()\n",
    "df_action_d = g.unstack('action_detail').fillna(0) #\n",
    "df_action_d.head()"
   ]
  },
  {
   "cell_type": "code",
   "execution_count": 19,
   "metadata": {
    "collapsed": true
   },
   "outputs": [],
   "source": [
    "#save the results to be used for merging\n",
    "df_action_t.to_csv('df_action_t.csv')\n",
    "df_action.to_csv('df_action.csv')\n",
    "df_action_d.to_csv('df_action_d.csv')"
   ]
  }
 ],
 "metadata": {
  "kernelspec": {
   "display_name": "Python 2",
   "language": "python",
   "name": "python2"
  },
  "language_info": {
   "codemirror_mode": {
    "name": "ipython",
    "version": 2
   },
   "file_extension": ".py",
   "mimetype": "text/x-python",
   "name": "python",
   "nbconvert_exporter": "python",
   "pygments_lexer": "ipython2",
   "version": "2.7.11"
  }
 },
 "nbformat": 4,
 "nbformat_minor": 0
}
