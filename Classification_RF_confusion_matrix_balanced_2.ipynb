{
 "cells": [
  {
   "cell_type": "markdown",
   "metadata": {},
   "source": [
    "In this notebook, I apply random forest (with parameter class_weight = 'balanced') to the data set with binarized labels ('NDF' and 'non-NDF')."
   ]
  },
  {
   "cell_type": "code",
   "execution_count": 1,
   "metadata": {
    "collapsed": false
   },
   "outputs": [],
   "source": [
    "import numpy as np\n",
    "import pandas as pd\n",
    "from sklearn.preprocessing import LabelEncoder\n",
    "#from xgboost.sklearn import XGBClassifier\n",
    "\n",
    "np.random.seed(0)\n",
    "\n",
    "from sklearn.ensemble import RandomForestClassifier\n",
    "from sklearn.cross_validation import cross_val_score\n",
    "import seaborn as sns\n",
    "from matplotlib import pyplot as plt\n",
    "%matplotlib inline\n",
    "import sklearn\n",
    "import sklearn.grid_search\n",
    "#from sklearn.cross_validation import train_test_split\n",
    "from sklearn.cross_validation import KFold\n",
    "\n",
    "import math\n",
    "from sklearn.metrics import confusion_matrix\n",
    "from NDCG_score_func import ndcg_score\n",
    "from __future__ import division"
   ]
  },
  {
   "cell_type": "markdown",
   "metadata": {},
   "source": [
    "Loading X,y and X_test"
   ]
  },
  {
   "cell_type": "code",
   "execution_count": 2,
   "metadata": {
    "collapsed": true
   },
   "outputs": [],
   "source": [
    "X= np.load('X.npy')\n",
    "y= np.load('y.npy')\n",
    "X_test= np.load('X_test.npy')"
   ]
  },
  {
   "cell_type": "code",
   "execution_count": 3,
   "metadata": {
    "collapsed": false
   },
   "outputs": [],
   "source": [
    "y = y.astype(int)\n",
    "y = np.equal(y, np.ones((len(y)))*7)\n",
    "y = np.invert(y)\n",
    "#y\n",
    "#booked-1; NDF-0"
   ]
  },
  {
   "cell_type": "markdown",
   "metadata": {},
   "source": [
    "Let's first split the origitnal traiing data into training set and test set."
   ]
  },
  {
   "cell_type": "code",
   "execution_count": 4,
   "metadata": {
    "collapsed": false,
    "scrolled": true
   },
   "outputs": [
    {
     "name": "stdout",
     "output_type": "stream",
     "text": [
      "(160088L, 226L)\n",
      "(53363L, 226L)\n",
      "(160088L,)\n",
      "(53363L,)\n"
     ]
    }
   ],
   "source": [
    "X_train, X_test, y_train, y_test = sklearn.cross_validation.train_test_split(X,y, test_size=0.25, random_state=42)\n",
    "print X_train.shape\n",
    "print X_test.shape\n",
    "print y_train.shape\n",
    "print y_test.shape"
   ]
  },
  {
   "cell_type": "code",
   "execution_count": 5,
   "metadata": {
    "collapsed": false
   },
   "outputs": [
    {
     "name": "stdout",
     "output_type": "stream",
     "text": [
      "[  8.28167078e+08   5.95637806e+08]\n"
     ]
    }
   ],
   "source": [
    "recip_freq = len(y_test) / 2 *np.bincount(y_test.astype(int)).astype(np.float64)\n",
    "print recip_freq"
   ]
  },
  {
   "cell_type": "markdown",
   "metadata": {},
   "source": [
    "### Random Forest"
   ]
  },
  {
   "cell_type": "markdown",
   "metadata": {},
   "source": [
    "Fit random forest classifier with training set and test the performance on test set."
   ]
  },
  {
   "cell_type": "code",
   "execution_count": 6,
   "metadata": {
    "collapsed": true
   },
   "outputs": [],
   "source": [
    "clf = RandomForestClassifier(max_features=40, n_estimators=120, n_jobs=1, min_samples_split=5,class_weight = 'balanced')#n_jobs=2 #, min_samples_split=5  max_features=12\n",
    "clf.fit(X_train,y_train)\n",
    "y_test_pred = clf.predict(X_test)\n",
    "Labels = ['NDF','Booked']\n",
    "confusion= pd.DataFrame(data = confusion_matrix(y_test, y_test_pred),index = Labels, columns=Labels)"
   ]
  },
  {
   "cell_type": "markdown",
   "metadata": {},
   "source": [
    "__Confusion Matrix__"
   ]
  },
  {
   "cell_type": "markdown",
   "metadata": {},
   "source": [
    "In the following confusion matrix, the row index represent the true book type, and the columns index represents the predicted booking class."
   ]
  },
  {
   "cell_type": "code",
   "execution_count": 7,
   "metadata": {
    "collapsed": false,
    "scrolled": false
   },
   "outputs": [
    {
     "data": {
      "text/html": [
       "<div>\n",
       "<table border=\"1\" class=\"dataframe\">\n",
       "  <thead>\n",
       "    <tr style=\"text-align: right;\">\n",
       "      <th></th>\n",
       "      <th>NDF</th>\n",
       "      <th>Booked</th>\n",
       "      <th>total</th>\n",
       "      <th>recognized</th>\n",
       "    </tr>\n",
       "  </thead>\n",
       "  <tbody>\n",
       "    <tr>\n",
       "      <th>NDF</th>\n",
       "      <td>22844</td>\n",
       "      <td>8195</td>\n",
       "      <td>31039</td>\n",
       "      <td>0.735977</td>\n",
       "    </tr>\n",
       "    <tr>\n",
       "      <th>Booked</th>\n",
       "      <td>7724</td>\n",
       "      <td>14600</td>\n",
       "      <td>22324</td>\n",
       "      <td>0.654005</td>\n",
       "    </tr>\n",
       "  </tbody>\n",
       "</table>\n",
       "</div>"
      ],
      "text/plain": [
       "          NDF  Booked  total  recognized\n",
       "NDF     22844    8195  31039    0.735977\n",
       "Booked   7724   14600  22324    0.654005"
      ]
     },
     "execution_count": 7,
     "metadata": {},
     "output_type": "execute_result"
    }
   ],
   "source": [
    "confusion['total']=confusion.sum(axis=1)\n",
    "tem = pd.Series(data = [ confusion.iloc[0,0]/ confusion.ix['NDF','total'],\\\n",
    "                         confusion.iloc[1,1]/ confusion.ix['Booked','total'] ], index = Labels)\n",
    "confusion['recognized']=tem\n",
    "confusion"
   ]
  },
  {
   "cell_type": "markdown",
   "metadata": {},
   "source": [
    "This time, the result is much more balanced compared to the case with non-binarized lables."
   ]
  },
  {
   "cell_type": "markdown",
   "metadata": {},
   "source": [
    "__Accuracy__ (just for recording)"
   ]
  },
  {
   "cell_type": "code",
   "execution_count": 8,
   "metadata": {
    "collapsed": false,
    "scrolled": true
   },
   "outputs": [
    {
     "data": {
      "text/plain": [
       "0.70168468789235983"
      ]
     },
     "execution_count": 8,
     "metadata": {},
     "output_type": "execute_result"
    }
   ],
   "source": [
    "sklearn.metrics.accuracy_score(y_test, y_test_pred)"
   ]
  }
 ],
 "metadata": {
  "kernelspec": {
   "display_name": "Python 2",
   "language": "python",
   "name": "python2"
  },
  "language_info": {
   "codemirror_mode": {
    "name": "ipython",
    "version": 2
   },
   "file_extension": ".py",
   "mimetype": "text/x-python",
   "name": "python",
   "nbconvert_exporter": "python",
   "pygments_lexer": "ipython2",
   "version": "2.7.11"
  }
 },
 "nbformat": 4,
 "nbformat_minor": 0
}
