{
 "cells": [
  {
   "cell_type": "markdown",
   "metadata": {},
   "source": [
    "This file might not be of practical use, but still interesting to take a look at to facilitate a better understanding of classification behavior for unbalanced data set. Random forest applied to data set (unbalanced)."
   ]
  },
  {
   "cell_type": "code",
   "execution_count": 1,
   "metadata": {
    "collapsed": false
   },
   "outputs": [],
   "source": [
    "import numpy as np\n",
    "import pandas as pd\n",
    "from sklearn.preprocessing import LabelEncoder\n",
    "#from xgboost.sklearn import XGBClassifier\n",
    "\n",
    "np.random.seed(0)\n",
    "\n",
    "from sklearn.ensemble import RandomForestClassifier\n",
    "from sklearn.cross_validation import cross_val_score\n",
    "import seaborn as sns\n",
    "from matplotlib import pyplot as plt\n",
    "%matplotlib inline\n",
    "import sklearn\n",
    "import sklearn.grid_search\n",
    "#from sklearn.cross_validation import train_test_split\n",
    "from sklearn.cross_validation import KFold\n",
    "\n",
    "import math\n",
    "from sklearn.metrics import confusion_matrix\n",
    "from NDCG_score_func import ndcg_score"
   ]
  },
  {
   "cell_type": "markdown",
   "metadata": {},
   "source": [
    "Loading data X,y and X_test"
   ]
  },
  {
   "cell_type": "code",
   "execution_count": 2,
   "metadata": {
    "collapsed": true
   },
   "outputs": [],
   "source": [
    "X= np.load('X.npy')\n",
    "y= np.load('y.npy')\n",
    "X_test= np.load('X_test.npy')"
   ]
  },
  {
   "cell_type": "markdown",
   "metadata": {},
   "source": [
    "### Random Forest"
   ]
  },
  {
   "cell_type": "markdown",
   "metadata": {},
   "source": [
    "To get a confusion matrix, we need a train data and test data and the true label and predicted value. "
   ]
  },
  {
   "cell_type": "markdown",
   "metadata": {},
   "source": [
    "Let's first split the origitnal traiing data into training set and test set."
   ]
  },
  {
   "cell_type": "code",
   "execution_count": 3,
   "metadata": {
    "collapsed": false,
    "scrolled": true
   },
   "outputs": [
    {
     "name": "stdout",
     "output_type": "stream",
     "text": [
      "(160088L, 226L)\n",
      "(53363L, 226L)\n",
      "(160088L,)\n",
      "(53363L,)\n"
     ]
    }
   ],
   "source": [
    "#Split the origitnal traiing data into training set and test set\n",
    "X_train, X_test, y_train, y_test = sklearn.cross_validation.train_test_split(X,y, test_size=0.25, random_state=42)\n",
    "print X_train.shape\n",
    "print X_test.shape\n",
    "print y_train.shape\n",
    "print y_test.shape"
   ]
  },
  {
   "cell_type": "markdown",
   "metadata": {},
   "source": [
    "Fit random forest classifier with training set and test the performance on test set."
   ]
  },
  {
   "cell_type": "code",
   "execution_count": 4,
   "metadata": {
    "collapsed": false
   },
   "outputs": [
    {
     "name": "stdout",
     "output_type": "stream",
     "text": [
      "Wall time: 3min 57s\n"
     ]
    }
   ],
   "source": [
    "%%time\n",
    "clf = RandomForestClassifier(max_features=40, n_estimators=120, n_jobs=1, min_samples_split=5)#n_jobs=2 #, min_samples_split=5  max_features=12\n",
    "clf.fit(X_train,y_train)\n",
    "y_test_pred = clf.predict(X_test)"
   ]
  },
  {
   "cell_type": "code",
   "execution_count": 5,
   "metadata": {
    "collapsed": false
   },
   "outputs": [],
   "source": [
    "#get the labels\n",
    "Labels = ['AU', 'CA', 'DE', 'ES', 'FR', 'GB', 'IT', 'NDF', 'NL', 'PT', 'US', 'other']\n",
    "confusion= pd.DataFrame(data = confusion_matrix(y_test, y_test_pred),index = Labels, columns=Labels )"
   ]
  },
  {
   "cell_type": "markdown",
   "metadata": {},
   "source": [
    "__Confusion Matrix__"
   ]
  },
  {
   "cell_type": "markdown",
   "metadata": {},
   "source": [
    "In the following confusion matrix, the row index represent the true book type, and the columns index represents the predicted booking class."
   ]
  },
  {
   "cell_type": "code",
   "execution_count": 6,
   "metadata": {
    "collapsed": false,
    "scrolled": false
   },
   "outputs": [
    {
     "name": "stdout",
     "output_type": "stream",
     "text": [
      "       AU  CA  DE  ES  FR  GB  IT    NDF  NL  PT    US  other\n",
      "AU      0   0   0   0   0   0   0     64   0   0    77      0\n",
      "CA      0   0   0   0   1   0   0    169   0   0   215      3\n",
      "DE      0   0   0   0   0   0   0    146   0   0   134      0\n",
      "ES      0   0   0   0   0   0   0    261   0   0   264      0\n",
      "FR      0   0   0   0   1   1   0    633   0   0   607      3\n",
      "GB      0   0   1   0   0   0   0    299   0   0   312      1\n",
      "IT      0   0   1   0   1   0   1    359   0   0   324      1\n",
      "NDF     0   0   2   2  16   7   1  25893   0   0  5085     33\n",
      "NL      0   0   0   0   1   0   0    117   0   0    94      2\n",
      "PT      0   0   0   0   0   0   0     22   0   0    29      1\n",
      "US      1   0   1   1   5   2   3   7620   0   0  7982     20\n",
      "other   0   0   0   1   2   0   0   1338   0   0  1200      3\n"
     ]
    }
   ],
   "source": [
    "print confusion"
   ]
  },
  {
   "cell_type": "code",
   "execution_count": 8,
   "metadata": {
    "collapsed": false
   },
   "outputs": [
    {
     "name": "stdout",
     "output_type": "stream",
     "text": [
      "There are 22324 non-NDF users and 31039 NDF users in this synthetic test set.\n"
     ]
    }
   ],
   "source": [
    "total = confusion.sum(axis =1) #the total number of users for each class\n",
    "NDF = total[7]\n",
    "non_NDF = total.sum()-NDF\n",
    "print 'There are %d non-NDF users and %d NDF users in this synthetic test set.'%(non_NDF, NDF)"
   ]
  },
  {
   "cell_type": "markdown",
   "metadata": {},
   "source": [
    "Let's see the percentage of recognized users on each category."
   ]
  },
  {
   "cell_type": "code",
   "execution_count": 9,
   "metadata": {
    "collapsed": false
   },
   "outputs": [
    {
     "data": {
      "text/plain": [
       "AU        0.000000\n",
       "CA        0.000000\n",
       "DE        0.000000\n",
       "ES        0.000000\n",
       "FR        0.080321\n",
       "GB        0.000000\n",
       "IT        0.145560\n",
       "NDF      83.420858\n",
       "NL        0.000000\n",
       "PT        0.000000\n",
       "US       51.052127\n",
       "other     0.117925\n",
       "dtype: float64"
      ]
     },
     "execution_count": 9,
     "metadata": {},
     "output_type": "execute_result"
    }
   ],
   "source": [
    "recognized = pd.Series(np.diagonal(confusion), index = Labels)\n",
    "rec_perc = recognized/total *100\n",
    "rec_perc"
   ]
  },
  {
   "cell_type": "markdown",
   "metadata": {},
   "source": [
    "__Binarized reading__: In order to make the results more clear, we make a table containing the result of recoginized NDF and recognized non-NDF users. Notice that if a user actually booked Italy is recognized as booking France, it is counted as NOT recognized."
   ]
  },
  {
   "cell_type": "code",
   "execution_count": 10,
   "metadata": {
    "collapsed": false
   },
   "outputs": [
    {
     "data": {
      "text/plain": [
       "Non-NDF    35.777638\n",
       "NDF        83.420858\n",
       "dtype: float64"
      ]
     },
     "execution_count": 10,
     "metadata": {},
     "output_type": "execute_result"
    }
   ],
   "source": [
    "reco_bina = pd.Series(data = [recognized.sum()-recognized['NDF'], recognized['NDF']],index = ['Non-NDF','NDF'])\n",
    "tot_bina = pd.Series(data = [total.sum()-total['NDF'], total['NDF']],index = ['Non-NDF','NDF'])\n",
    "rec_perc_bina = reco_bina/tot_bina *100\n",
    "rec_perc_bina"
   ]
  },
  {
   "cell_type": "code",
   "execution_count": 11,
   "metadata": {
    "collapsed": false
   },
   "outputs": [
    {
     "name": "stdout",
     "output_type": "stream",
     "text": [
      "The percentage of recognized non-NDF users is only 35%, while the percentage of recoginized NDF users is 83%,\n"
     ]
    }
   ],
   "source": [
    "print 'The percentage of recognized non-NDF users is only %d'%rec_perc_bina[0]+'%,'+ ' while the percentage of recoginized NDF users is %d'\\\n",
    "                                                          %rec_perc_bina[1]+'%,'"
   ]
  },
  {
   "cell_type": "markdown",
   "metadata": {},
   "source": [
    "__Remark__: from the confusion matrix above, it can be seen that due to the dominant amount of 'NDF' and 'US', the predictor tends to predict every thing to be one of them. This is actually due to the fact random forest is trying to maximize purity gain on every step, and therefore the most of samples from dominant classes is classified correctly. __Namely, for a unbalanced data set, classification algorithm is in favor of dominant class.__"
   ]
  },
  {
   "cell_type": "markdown",
   "metadata": {},
   "source": [
    "We also make a record of accuracy and NDCG score in below."
   ]
  },
  {
   "cell_type": "markdown",
   "metadata": {},
   "source": [
    "__Accuracy__ and __NDCG__"
   ]
  },
  {
   "cell_type": "code",
   "execution_count": 12,
   "metadata": {
    "collapsed": false
   },
   "outputs": [
    {
     "data": {
      "text/plain": [
       "0.6348968386335101"
      ]
     },
     "execution_count": 12,
     "metadata": {},
     "output_type": "execute_result"
    }
   ],
   "source": [
    "sklearn.metrics.accuracy_score(y_test, y_test_pred)"
   ]
  },
  {
   "cell_type": "code",
   "execution_count": 13,
   "metadata": {
    "collapsed": false
   },
   "outputs": [
    {
     "data": {
      "text/plain": [
       "0.81853269448565258"
      ]
     },
     "execution_count": 13,
     "metadata": {},
     "output_type": "execute_result"
    }
   ],
   "source": [
    "ground_truth = y_test\n",
    "predictions = clf.predict_proba(X_test)\n",
    "ndcg_score(ground_truth, predictions, k=5)"
   ]
  }
 ],
 "metadata": {
  "kernelspec": {
   "display_name": "Python 2",
   "language": "python",
   "name": "python2"
  },
  "language_info": {
   "codemirror_mode": {
    "name": "ipython",
    "version": 2
   },
   "file_extension": ".py",
   "mimetype": "text/x-python",
   "name": "python",
   "nbconvert_exporter": "python",
   "pygments_lexer": "ipython2",
   "version": "2.7.11"
  }
 },
 "nbformat": 4,
 "nbformat_minor": 0
}
