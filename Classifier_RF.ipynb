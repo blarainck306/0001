{
 "cells": [
  {
   "cell_type": "markdown",
   "metadata": {},
   "source": [
    "Features have been engeneered using various techniques so that they are ready to be further processed by machine learning classification algorithms. In this notebook, I try out the random forest classifier (RF). Note that for random forest classifier, feature scaling is not necessary. However, it was implemented because other classfication technique, such as logitic regression, requie scaled features."
   ]
  },
  {
   "cell_type": "code",
   "execution_count": 1,
   "metadata": {
    "collapsed": false
   },
   "outputs": [],
   "source": [
    "import numpy as np\n",
    "import pandas as pd\n",
    "from sklearn.preprocessing import LabelEncoder\n",
    "np.random.seed(0)\n",
    "\n",
    "import sklearn\n",
    "import sklearn.grid_search\n",
    "from sklearn.ensemble import RandomForestClassifier\n",
    "from sklearn.cross_validation import cross_val_score\n",
    "from matplotlib import pyplot as plt\n",
    "\n",
    "from sklearn.cross_validation import KFold\n",
    "import math\n",
    "\n",
    "#using NDCD scoring instead of default accuracy\n",
    "from NDCG_score_func import ndcg_scorer\n",
    "\n",
    "%matplotlib inline"
   ]
  },
  {
   "cell_type": "markdown",
   "metadata": {},
   "source": [
    "#### Loading train and test data"
   ]
  },
  {
   "cell_type": "code",
   "execution_count": 3,
   "metadata": {
    "collapsed": true
   },
   "outputs": [],
   "source": [
    "X= np.load('X.npy')\n",
    "y= np.load('y.npy')\n",
    "X_test= np.load('X_test.npy')"
   ]
  },
  {
   "cell_type": "markdown",
   "metadata": {},
   "source": [
    "#### Random forest classifier"
   ]
  },
  {
   "cell_type": "markdown",
   "metadata": {},
   "source": [
    "Using grid function to do k-fold cross validation...."
   ]
  },
  {
   "cell_type": "code",
   "execution_count": null,
   "metadata": {
    "collapsed": true
   },
   "outputs": [],
   "source": [
    "#Using grid function to do k-fold cross validation....\n",
    "\n",
    "%%time\n",
    "#--Using grid function to do k-fold cross validation....\n",
    "#--for each set of parameters, run K-fold cross validation: k=5\n",
    "#--tunning paramters: number of considered features for spltting.\n",
    "\n",
    "tree_iter = range(50,180,50)\n",
    "split_feature_iter = range(10,31,10)\n",
    "\n",
    "parameters = {'n_estimators':tree_iter,'max_features':split_feature_iter}\n",
    "RF = RandomForestClassifier(min_samples_split=5) \n",
    "\n",
    "#n_jobs=-1,#,\\oob_score=True, max_features = int(math.floor(math.sqrt(X.shape[1]))/2)\n",
    "clf = sklearn.grid_search.GridSearchCV(RF, parameters, cv=5, n_jobs=1,scoring=ndcg_scorer)\n",
    "clf.fit(X,y)\n",
    "clf.grid_scores"
   ]
  },
  {
   "cell_type": "code",
   "execution_count": 4,
   "metadata": {
    "collapsed": true
   },
   "outputs": [
    {
     "data": {
      "text/plain": [
       "[mean: 0.64110, std: 0.00026, params: {'C': 1},\n",
       " mean: 0.64133, std: 0.00001, params: {'C': 10},\n",
       " mean: 0.64138, std: 0.00003, params: {'C': 100}]"
      ]
     },
     "execution_count": 4,
     "metadata": {},
     "output_type": "execute_result"
    }
   ],
   "source": [
    "#k-fold cross validation for one parameter set\n",
    "\n",
    "# %%time\n",
    "# #select m features out of p features randomly for each node\n",
    "# #bootstropped used to boost the randomness of the each tree\n",
    "# clf = RandomForestClassifier(max_features=40, n_estimators=120, n_jobs=1, min_samples_split=5)#n_jobs=2 #, min_samples_split=5  max_features=12\n",
    "# #view the whole data set as trainning set, and cross validate using K-fold cross validata(K=10)\n",
    "# kf = KFold(len(X), n_folds=5, random_state=42)\n",
    "# score_list = cross_val_score(clf, X, y, cv=kf,scoring=ndcg_scorer)# scoring=ndcg_scorer\n",
    "# print score_list\n",
    "# print np.mean(score_list)"
   ]
  }
 ],
 "metadata": {
  "kernelspec": {
   "display_name": "Python 2",
   "language": "python",
   "name": "python2"
  },
  "language_info": {
   "codemirror_mode": {
    "name": "ipython",
    "version": 2
   },
   "file_extension": ".py",
   "mimetype": "text/x-python",
   "name": "python",
   "nbconvert_exporter": "python",
   "pygments_lexer": "ipython2",
   "version": "2.7.11"
  }
 },
 "nbformat": 4,
 "nbformat_minor": 0
}
