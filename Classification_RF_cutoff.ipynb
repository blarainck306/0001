{
 "cells": [
  {
   "cell_type": "markdown",
   "metadata": {},
   "source": [
    "In this note, I apply Random forest to the data set with binarized labels. Different cutoff values will be used to generate the ROC curve. Note that other apporahces, such as modifying the class_weight paramters (refer to sklearn documentation), can also be used. It is also noted that differnt extensions of ROC metric applied to multiclass classification problem can be found http://scikit-learn.org/stable/auto_examples/model_selection/plot_roc.html ."
   ]
  },
  {
   "cell_type": "code",
   "execution_count": 1,
   "metadata": {
    "collapsed": false
   },
   "outputs": [],
   "source": [
    "import numpy as np\n",
    "import pandas as pd\n",
    "from sklearn.preprocessing import LabelEncoder\n",
    "#from xgboost.sklearn import XGBClassifier\n",
    "\n",
    "np.random.seed(0)\n",
    "\n",
    "from sklearn.ensemble import RandomForestClassifier\n",
    "from sklearn.cross_validation import cross_val_score\n",
    "import seaborn as sns\n",
    "from matplotlib import pyplot as plt\n",
    "%matplotlib inline\n",
    "import sklearn\n",
    "import sklearn.grid_search\n",
    "#from sklearn.cross_validation import train_test_split\n",
    "from sklearn.cross_validation import KFold\n",
    "\n",
    "import math\n",
    "from sklearn.metrics import confusion_matrix\n",
    "from NDCG_score_func import ndcg_score\n",
    "from __future__ import division"
   ]
  },
  {
   "cell_type": "markdown",
   "metadata": {},
   "source": [
    "Loading X,y and X_test"
   ]
  },
  {
   "cell_type": "code",
   "execution_count": 2,
   "metadata": {
    "collapsed": true
   },
   "outputs": [],
   "source": [
    "X= np.load('X.npy')\n",
    "y= np.load('y.npy')\n",
    "X_test= np.load('X_test.npy')"
   ]
  },
  {
   "cell_type": "code",
   "execution_count": 3,
   "metadata": {
    "collapsed": false
   },
   "outputs": [],
   "source": [
    "y = y.astype(int)\n",
    "y = np.equal(y, np.ones((len(y)))*7)\n",
    "y = np.invert(y)\n",
    "y = y.astype(int)\n",
    "#booked-1; NDF-0"
   ]
  },
  {
   "cell_type": "code",
   "execution_count": 4,
   "metadata": {
    "collapsed": false
   },
   "outputs": [
    {
     "data": {
      "text/plain": [
       "array([1, 1, 0, ..., 0, 1, 1])"
      ]
     },
     "execution_count": 4,
     "metadata": {},
     "output_type": "execute_result"
    }
   ],
   "source": [
    "y"
   ]
  },
  {
   "cell_type": "markdown",
   "metadata": {},
   "source": [
    "Splitting data set into train and test sets"
   ]
  },
  {
   "cell_type": "code",
   "execution_count": 5,
   "metadata": {
    "collapsed": false
   },
   "outputs": [
    {
     "name": "stdout",
     "output_type": "stream",
     "text": [
      "(160088L, 226L)\n",
      "(53363L, 226L)\n",
      "(160088L,)\n",
      "(53363L,)\n"
     ]
    }
   ],
   "source": [
    "X_train, X_test, y_train, y_test = sklearn.cross_validation.train_test_split(X,y, \\\n",
    "                                   test_size=0.25, random_state=42)\n",
    "print X_train.shape\n",
    "print X_test.shape\n",
    "print y_train.shape\n",
    "print y_test.shape"
   ]
  },
  {
   "cell_type": "markdown",
   "metadata": {},
   "source": [
    "### Random Forest\n",
    "Fit random forest classifier with training set and test the performance on test set."
   ]
  },
  {
   "cell_type": "code",
   "execution_count": 6,
   "metadata": {
    "collapsed": false
   },
   "outputs": [
    {
     "data": {
      "text/plain": [
       "RandomForestClassifier(bootstrap=True, class_weight='balanced',\n",
       "            criterion='gini', max_depth=None, max_features=40,\n",
       "            max_leaf_nodes=None, min_samples_leaf=1, min_samples_split=5,\n",
       "            min_weight_fraction_leaf=0.0, n_estimators=120, n_jobs=1,\n",
       "            oob_score=False, random_state=None, verbose=0,\n",
       "            warm_start=False)"
      ]
     },
     "execution_count": 6,
     "metadata": {},
     "output_type": "execute_result"
    }
   ],
   "source": [
    "#Train random orest classier\n",
    "clf = RandomForestClassifier(max_features=40,\\\n",
    "                             n_estimators=120, n_jobs=1,\\\n",
    "                             min_samples_split=5,class_weight = 'balanced')\n",
    "                             #n_jobs=2 #, min_samples_split=5  max_features=12\n",
    "clf.fit(X_train,y_train)"
   ]
  },
  {
   "cell_type": "code",
   "execution_count": 7,
   "metadata": {
    "collapsed": false
   },
   "outputs": [
    {
     "data": {
      "text/plain": [
       "True"
      ]
     },
     "execution_count": 7,
     "metadata": {},
     "output_type": "execute_result"
    }
   ],
   "source": [
    "#verifying prediction based on predict method and predict_proba method are the same:\n",
    "my_prediction = (clf.predict_proba(X_test)[:,1]>0.5).astype(int)#convert boolean array to int array\n",
    "(my_prediction == clf.predict(X_test).astype(int)).all()"
   ]
  },
  {
   "cell_type": "markdown",
   "metadata": {},
   "source": [
    "Function __cutoff_predict__ that takes a trained classifier, a data matrix X, and a cutoff, and generates predictions based on the classifier's predicted probability and the cutoff value."
   ]
  },
  {
   "cell_type": "code",
   "execution_count": 8,
   "metadata": {
    "collapsed": true
   },
   "outputs": [],
   "source": [
    "\"\"\"\n",
    "cutoff_predict(clf, X, cutoff)\n",
    "\n",
    "This function  takes a trained classifier, a data matrix X, and a cutoff, and \n",
    "generates predictions based on the classifier's predicted probability and the cutoff value.\n",
    "\n",
    "Inputs:\n",
    "clf: a **trained** classifier object\n",
    "X: a 2D numpy array of features\n",
    "cutoff: a float giving the cutoff value used to convert\n",
    "        predicted probabilities into a 0/1 prediction.\n",
    "\n",
    "Output:\n",
    "a numpy array of 0/1 predictions.\n",
    "\"\"\"\n",
    "def cutoff_predict(clf, X, cutoff):\n",
    "    return (clf.predict_proba(X)[:,1] > cutoff).astype(int)"
   ]
  },
  {
   "cell_type": "code",
   "execution_count": 9,
   "metadata": {
    "collapsed": false,
    "scrolled": true
   },
   "outputs": [
    {
     "data": {
      "image/png": "[encoded data removed]",
      "text/plain": [
       "<matplotlib.figure.Figure at 0xa5080b8>"
      ]
     },
     "metadata": {},
     "output_type": "display_data"
    }
   ],
   "source": [
    "#Using differnet cutoff values and get the corresponding True possitive rate and False negtive rate\n",
    "TPR_list=[]\n",
    "FNR_list=[]\n",
    "Accu_list=[]\n",
    "\n",
    "for cutoff in np.arange(0, 1.1, 0.1):\n",
    "# for cutoff in np.arange(0.5, 0.6, 0.1):\n",
    "    cutoff_prediction = cutoff_predict(clf, X_test, cutoff)\n",
    "    #y_test_pred = clf.predict(X_test)\n",
    "    Labels = ['NDF','Booked']\n",
    "    confusion= pd.DataFrame(data = confusion_matrix(y_test, cutoff_prediction),index = Labels, columns=Labels)\n",
    "    TPR = confusion.loc['Booked','Booked']/confusion.loc['Booked'].sum()\n",
    "    TPR_list.append(TPR)\n",
    "    FNR = confusion.loc['NDF','Booked']/confusion.loc['NDF'].sum()\n",
    "    FNR_list.append(FNR)\n",
    "    Accu = (confusion.loc['Booked','Booked']+ confusion.loc['NDF','NDF'])/confusion.sum(axis=1).sum()\n",
    "    Accu_list.append(Accu)\n",
    "\n",
    "plt.plot(FNR_list, TPR_list)\n",
    "plt.show()"
   ]
  },
  {
   "cell_type": "markdown",
   "metadata": {},
   "source": [
    "Fig.1 False negtive rate vs. cutoff value for prediction."
   ]
  },
  {
   "cell_type": "code",
   "execution_count": 18,
   "metadata": {
    "collapsed": false,
    "scrolled": true
   },
   "outputs": [
    {
     "data": {
      "image/png": "[encoded data removed]",
      "text/plain": [
       "<matplotlib.figure.Figure at 0x38eda630>"
      ]
     },
     "metadata": {},
     "output_type": "display_data"
    }
   ],
   "source": [
    "plt.plot(np.arange(0, 1.1, 0.1), Accu_list)\n",
    "plt.show()"
   ]
  },
  {
   "cell_type": "markdown",
   "metadata": {},
   "source": [
    "Fig.2 Accruacy vs. cutoff value for predition."
   ]
  },
  {
   "cell_type": "markdown",
   "metadata": {},
   "source": [
    "It can be see from the figure above that the optimum accuracy is achieved with threshold equal to 0.5. "
   ]
  }
 ],
 "metadata": {
  "kernelspec": {
   "display_name": "Python 2",
   "language": "python",
   "name": "python2"
  },
  "language_info": {
   "codemirror_mode": {
    "name": "ipython",
    "version": 2
   },
   "file_extension": ".py",
   "mimetype": "text/x-python",
   "name": "python",
   "nbconvert_exporter": "python",
   "pygments_lexer": "ipython2",
   "version": "2.7.11"
  }
 },
 "nbformat": 4,
 "nbformat_minor": 0
}
